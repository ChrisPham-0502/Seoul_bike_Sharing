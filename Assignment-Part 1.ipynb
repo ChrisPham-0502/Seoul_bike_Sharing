{
 "cells": [
  {
   "cell_type": "markdown",
   "id": "542279b9",
   "metadata": {},
   "source": [
    "# Assignment"
   ]
  },
  {
   "cell_type": "markdown",
   "id": "80daa878",
   "metadata": {},
   "source": [
    "In this assignment you will apply various Data Science skills and techniques that you have learned as part of the previous courses.\n",
    "\n",
    "You will assume the role of a Data Scientist who has recently joined an AI-powered weather data analytic company and be presented with a challenge that requires data collection, analysis, basic hypothesis testing, visualization, modelling, and dashboard to be performed on real-world datasets.\n",
    "\n",
    "You will undertake the tasks of\n",
    "- Collecting and understanding data from multiple sources\n",
    "- Performing data wrangling \n",
    "- Performing exploratory data analysis and visualization \n",
    "- Performing modelling the data with linear regressions using Tidymodels\n",
    "- Building an interactive dashboard using R Shiny (option)\n",
    "\n",
    "The project will culminate with a presentation of your data analysis report, with an executive summary for the various stakeholders in the organization. You will be assessed on both your work for the various stages in the data analysis process, as well as the final deliverable.\n",
    "\n",
    "This project is a great opportunity to showcase your Data Science skills, and demonstrate your proficiency to potential employers.\n"
   ]
  },
  {
   "cell_type": "markdown",
   "id": "3631aacf",
   "metadata": {},
   "source": [
    "# Project Scenario\n",
    "\n",
    "Imagine that you have just been hired by an AI-powered weather data analytics company as a data scientist.\n",
    "\n",
    "Your first project is to analyze how weather would affect bike-sharing demand in urban areas. To complete this project, you need to first collect and process related weather and bike-sharing demand data from various sources, perform exploratory data analysis on the data, and build predictive models to predict bike-sharing demand. You will combine your results and connect them to a live dashboard displaying an interactive map and associated visualization of the current weather and the estimated bike demand.\n",
    "\n",
    "The last assignment is creating an insightful and informative slideshow and presenting it to your peers.\n"
   ]
  },
  {
   "cell_type": "markdown",
   "id": "3f6d2ab1",
   "metadata": {},
   "source": [
    "# Understanding the source data\n",
    "\n",
    "Rental bikes are available in many cities around the globe. It is important for each of these cities to provide a reliable supply of rental bikes to optimize availablity and accessibility to the public at all times. Also important is minimizing the cost of these programs, in part by minimizing the number of bikes supplied in order to meet the demand. Thus, to help optimize the supply it would be helpful to be able to predict the number of bikes required each hour of the day, based on currrent conditions such as the weather.The Seoul Bike Sharing Demand Data Set was designed for this purpose. It contains weather information (Temperature, Humidity, Windspeed, Visibility, Dewpoint, Solar radiation, Snowfall, Rainfall), and the number of bikes rented per hour and date.\n",
    "\n",
    "You will use this dataset to build a linear regression model of the number of bikes rented each hour, based on the weather.\n",
    "Attribute Information\n",
    "\n",
    "- Date : year-month-day\n",
    "- Rented Bike count - Count of bikes rented at each hour\n",
    "- Hour - Hour of he day \n",
    "- Temperature-Temperature in Celsius\n",
    "- Humidity - unit is %\n",
    "- Windspeed - unit is m/s\n",
    "- Visibility - unit 10m\n",
    "- Dew point temperature - Celsius\n",
    "- Solar radiation - MJ/m2\n",
    "- Rainfall - mm \n",
    "- Snowfall - cm\n",
    "- Seasons - Winter, Spring, Summer, Autumn\n",
    "- Holiday - Holiday/No holiday\n",
    "- Functional Day - NoFunc (Non Functional Hours), Fun(Functional hours)\n",
    "\n",
    "\n",
    "### Relevant Paper and Citation Request:\n",
    "- Sathishkumar V E, Jangwoo Park, and Yongyun Cho.\n",
    "Using data mining techniques for bike sharing demand prediction in metropolitan city. Computer Communications, Vol.153, pp.353-366, March, 2020\n",
    "- Sathishkumar V E and Yongyun Cho.\n",
    "A rule-based model for Seoul Bike sharing demand prediction using weather data European Journal of Remote Sensing, pp. 1-18, Feb, 2020\n",
    "- V E, Sathishkumar (2020), “Seoul Bike Sharing Demand Prediction”, Mendeley Data, V2, doi: 10.17632/zbdtzxcxvg.2\n",
    "\n"
   ]
  },
  {
   "cell_type": "markdown",
   "id": "d8e041fd",
   "metadata": {},
   "source": [
    "# Next Steps: Data Collection\n",
    "\n",
    "You can collect data using different ways such as:\n",
    "- OpenWeather APIs Calls\n",
    "- Web scrape a Global Bike-Sharing Systems Wiki Page\n",
    "\n",
    "In this study, we will straightforward  download some aggregated datasets from cloud storage"
   ]
  },
  {
   "cell_type": "code",
   "execution_count": 1,
   "id": "606a7da2",
   "metadata": {
    "vscode": {
     "languageId": "r"
    }
   },
   "outputs": [],
   "source": [
    "# Download several datasets\n",
    "\n",
    "# Download raw_bike_sharing_systems.csv\n",
    "# url <- \"https://cf-courses-data.s3.us.cloud-object-storage.appdomain.cloud/IBMDeveloperSkillsNetwork-RP0321EN-SkillsNetwork/labs/datasets/raw_bike_sharing_systems.csv\"\n",
    "# download.file(url, destfile = \"raw_bike_sharing_systems.csv\")\n",
    "\n",
    "# Download raw_cities_weather_forecast.csv\n",
    "# url <- \"https://cf-courses-data.s3.us.cloud-object-storage.appdomain.cloud/IBMDeveloperSkillsNetwork-RP0321EN-SkillsNetwork/labs/datasets/raw_cities_weather_forecast.csv\"\n",
    "# download.file(url, destfile = \"raw_cities_weather_forecast.csv\")\n",
    "\n",
    "# Download raw_worldcities.csv\n",
    "# url <- \"https://cf-courses-data.s3.us.cloud-object-storage.appdomain.cloud/IBMDeveloperSkillsNetwork-RP0321EN-SkillsNetwork/labs/datasets/raw_worldcities.csv\"\n",
    "# download.file(url, destfile = \"raw_worldcities.csv\")\n",
    "\n",
    "# Download raw_seoul_bike_sharing.csv\n",
    "url <- \"https://cf-courses-data.s3.us.cloud-object-storage.appdomain.cloud/IBMDeveloperSkillsNetwork-RP0321EN-SkillsNetwork/labs/datasets/raw_seoul_bike_sharing.csv\"\n",
    "download.file(url, destfile = \"raw_seoul_bike_sharing.csv\")"
   ]
  },
  {
   "cell_type": "markdown",
   "id": "e5450b96",
   "metadata": {},
   "source": [
    "\n",
    "#### To improve dataset readbility by both human and computer systems, we first need to standardize the column names of the datasets above using the following naming convention:\n",
    "\n",
    "- Column names need to be UPPERCASE\n",
    "- The word separator needs to be an underscore, such as in COLUMN_NAME\n",
    "\n",
    "You can use the following dataset list and the names() function to get and set each of their column names, and convert them according to our defined naming convention."
   ]
  },
  {
   "cell_type": "markdown",
   "id": "48c373bd",
   "metadata": {},
   "source": [
    "### Q1- Standardize the column names again for the new datasets and convert their column names"
   ]
  },
  {
   "cell_type": "code",
   "execution_count": 2,
   "id": "a6f93df5",
   "metadata": {
    "vscode": {
     "languageId": "r"
    }
   },
   "outputs": [],
   "source": [
    "# install.packages(\"stringr\")\n",
    "library(stringr)\n",
    "      # Read dataset raw_seoul_bike_sharing.csv\n",
    "dataset<-read.csv(\"raw_seoul_bike_sharing.csv\")\n",
    "    # Standardized its columns:\n",
    "#     dataset.standardized=scale(dataset)\n",
    "#dataset.standardize=scale(dataset)\n",
    "    # Convert all column names to uppercase\n",
    "names(dataset) <- toupper(names(dataset))\n",
    "    # Replace any white space separators by underscores, using the str_replace_all function\n",
    "names(dataset) <- str_replace_all(names(dataset), \" \", \"_\")\n",
    "    # Save the dataset \n",
    "write.csv(dataset, \"raw_seoul_bike_sharing.csv\", row.names=FALSE)\n",
    "\n"
   ]
  },
  {
   "cell_type": "markdown",
   "id": "c4ef9fef",
   "metadata": {},
   "source": [
    "### Q2- Read the resulting dataset back and check whether their column names follow the naming convention"
   ]
  },
  {
   "cell_type": "code",
   "execution_count": 3,
   "id": "ed774f49",
   "metadata": {
    "vscode": {
     "languageId": "r"
    }
   },
   "outputs": [
    {
     "data": {
      "text/plain": [
       "     DATE           RENTED_BIKE_COUNT      HOUR        TEMPERATURE    \n",
       " Length:8760        Min.   :   2.0    Min.   : 0.00   Min.   :-17.80  \n",
       " Class :character   1st Qu.: 214.0    1st Qu.: 5.75   1st Qu.:  3.40  \n",
       " Mode  :character   Median : 542.0    Median :11.50   Median : 13.70  \n",
       "                    Mean   : 729.2    Mean   :11.50   Mean   : 12.87  \n",
       "                    3rd Qu.:1084.0    3rd Qu.:17.25   3rd Qu.: 22.50  \n",
       "                    Max.   :3556.0    Max.   :23.00   Max.   : 39.40  \n",
       "                    NA's   :295                       NA's   :11      \n",
       "    HUMIDITY       WIND_SPEED      VISIBILITY   DEW_POINT_TEMPERATURE\n",
       " Min.   : 0.00   Min.   :0.000   Min.   :  27   Min.   :-30.600      \n",
       " 1st Qu.:42.00   1st Qu.:0.900   1st Qu.: 940   1st Qu.: -4.700      \n",
       " Median :57.00   Median :1.500   Median :1698   Median :  5.100      \n",
       " Mean   :58.23   Mean   :1.725   Mean   :1437   Mean   :  4.074      \n",
       " 3rd Qu.:74.00   3rd Qu.:2.300   3rd Qu.:2000   3rd Qu.: 14.800      \n",
       " Max.   :98.00   Max.   :7.400   Max.   :2000   Max.   : 27.200      \n",
       "                                                                     \n",
       " SOLAR_RADIATION     RAINFALL          SNOWFALL         SEASONS         \n",
       " Min.   :0.0000   Min.   : 0.0000   Min.   :0.00000   Length:8760       \n",
       " 1st Qu.:0.0000   1st Qu.: 0.0000   1st Qu.:0.00000   Class :character  \n",
       " Median :0.0100   Median : 0.0000   Median :0.00000   Mode  :character  \n",
       " Mean   :0.5691   Mean   : 0.1487   Mean   :0.07507                     \n",
       " 3rd Qu.:0.9300   3rd Qu.: 0.0000   3rd Qu.:0.00000                     \n",
       " Max.   :3.5200   Max.   :35.0000   Max.   :8.80000                     \n",
       "                                                                        \n",
       "   HOLIDAY          FUNCTIONING_DAY   \n",
       " Length:8760        Length:8760       \n",
       " Class :character   Class :character  \n",
       " Mode  :character   Mode  :character  \n",
       "                                      \n",
       "                                      \n",
       "                                      \n",
       "                                      "
      ]
     },
     "metadata": {},
     "output_type": "display_data"
    }
   ],
   "source": [
    "# Print a summary  data set to check whether the column names were correctly converted\n",
    "#     print(summary(dataset))\n",
    "dataset<-read.csv(\"raw_seoul_bike_sharing.csv\")\n",
    "summary(dataset)"
   ]
  },
  {
   "cell_type": "code",
   "execution_count": 4,
   "id": "ad9c06ba",
   "metadata": {
    "vscode": {
     "languageId": "r"
    }
   },
   "outputs": [
    {
     "name": "stderr",
     "output_type": "stream",
     "text": [
      "\n",
      "Attaching package: 'dplyr'\n",
      "\n",
      "\n",
      "The following objects are masked from 'package:stats':\n",
      "\n",
      "    filter, lag\n",
      "\n",
      "\n",
      "The following objects are masked from 'package:base':\n",
      "\n",
      "    intersect, setdiff, setequal, union\n",
      "\n",
      "\n"
     ]
    }
   ],
   "source": [
    "library(magrittr) # needs to be run every time you start R and want to use %>%\n",
    "library(dplyr)"
   ]
  },
  {
   "cell_type": "markdown",
   "id": "67099228",
   "metadata": {},
   "source": [
    "# Data Wrangling with dplyr\n",
    "\n",
    "For this dataset, you will be asked to use tidyverse to perform the following data wrangling tasks:\n",
    "\n",
    "- TASK 1: Detect and handle missing values\n",
    "- TASK 2: Create indicator (dummy) variables for categorical variables\n",
    "- TASK 3: Normalize data"
   ]
  },
  {
   "cell_type": "code",
   "execution_count": 5,
   "id": "cc032900",
   "metadata": {
    "vscode": {
     "languageId": "r"
    }
   },
   "outputs": [
    {
     "name": "stderr",
     "output_type": "stream",
     "text": [
      "── \u001b[1mAttaching core tidyverse packages\u001b[22m ──────────────────────── tidyverse 2.0.0 ──\n",
      "\u001b[32m✔\u001b[39m \u001b[34mforcats  \u001b[39m 1.0.0     \u001b[32m✔\u001b[39m \u001b[34mreadr    \u001b[39m 2.1.4\n",
      "\u001b[32m✔\u001b[39m \u001b[34mggplot2  \u001b[39m 3.4.2     \u001b[32m✔\u001b[39m \u001b[34mtibble   \u001b[39m 3.2.1\n",
      "\u001b[32m✔\u001b[39m \u001b[34mlubridate\u001b[39m 1.9.2     \u001b[32m✔\u001b[39m \u001b[34mtidyr    \u001b[39m 1.3.0\n",
      "\u001b[32m✔\u001b[39m \u001b[34mpurrr    \u001b[39m 1.0.1     \n",
      "── \u001b[1mConflicts\u001b[22m ────────────────────────────────────────── tidyverse_conflicts() ──\n",
      "\u001b[31m✖\u001b[39m \u001b[34mtidyr\u001b[39m::\u001b[32mextract()\u001b[39m   masks \u001b[34mmagrittr\u001b[39m::extract()\n",
      "\u001b[31m✖\u001b[39m \u001b[34mdplyr\u001b[39m::\u001b[32mfilter()\u001b[39m    masks \u001b[34mstats\u001b[39m::filter()\n",
      "\u001b[31m✖\u001b[39m \u001b[34mdplyr\u001b[39m::\u001b[32mlag()\u001b[39m       masks \u001b[34mstats\u001b[39m::lag()\n",
      "\u001b[31m✖\u001b[39m \u001b[34mpurrr\u001b[39m::\u001b[32mset_names()\u001b[39m masks \u001b[34mmagrittr\u001b[39m::set_names()\n",
      "\u001b[36mℹ\u001b[39m Use the conflicted package (\u001b[3m\u001b[34m<http://conflicted.r-lib.org/>\u001b[39m\u001b[23m) to force all conflicts to become errors\n"
     ]
    },
    {
     "data": {
      "text/plain": [
       "     DATE           RENTED_BIKE_COUNT      HOUR        TEMPERATURE    \n",
       " Length:8760        Min.   :   2.0    Min.   : 0.00   Min.   :-17.80  \n",
       " Class :character   1st Qu.: 214.0    1st Qu.: 5.75   1st Qu.:  3.40  \n",
       " Mode  :character   Median : 542.0    Median :11.50   Median : 13.70  \n",
       "                    Mean   : 729.2    Mean   :11.50   Mean   : 12.87  \n",
       "                    3rd Qu.:1084.0    3rd Qu.:17.25   3rd Qu.: 22.50  \n",
       "                    Max.   :3556.0    Max.   :23.00   Max.   : 39.40  \n",
       "                    NA's   :295                       NA's   :11      \n",
       "    HUMIDITY       WIND_SPEED      VISIBILITY   DEW_POINT_TEMPERATURE\n",
       " Min.   : 0.00   Min.   :0.000   Min.   :  27   Min.   :-30.600      \n",
       " 1st Qu.:42.00   1st Qu.:0.900   1st Qu.: 940   1st Qu.: -4.700      \n",
       " Median :57.00   Median :1.500   Median :1698   Median :  5.100      \n",
       " Mean   :58.23   Mean   :1.725   Mean   :1437   Mean   :  4.074      \n",
       " 3rd Qu.:74.00   3rd Qu.:2.300   3rd Qu.:2000   3rd Qu.: 14.800      \n",
       " Max.   :98.00   Max.   :7.400   Max.   :2000   Max.   : 27.200      \n",
       "                                                                     \n",
       " SOLAR_RADIATION     RAINFALL          SNOWFALL         SEASONS         \n",
       " Min.   :0.0000   Min.   : 0.0000   Min.   :0.00000   Length:8760       \n",
       " 1st Qu.:0.0000   1st Qu.: 0.0000   1st Qu.:0.00000   Class :character  \n",
       " Median :0.0100   Median : 0.0000   Median :0.00000   Mode  :character  \n",
       " Mean   :0.5691   Mean   : 0.1487   Mean   :0.07507                     \n",
       " 3rd Qu.:0.9300   3rd Qu.: 0.0000   3rd Qu.:0.00000                     \n",
       " Max.   :3.5200   Max.   :35.0000   Max.   :8.80000                     \n",
       "                                                                        \n",
       "   HOLIDAY          FUNCTIONING_DAY   \n",
       " Length:8760        Length:8760       \n",
       " Class :character   Class :character  \n",
       " Mode  :character   Mode  :character  \n",
       "                                      \n",
       "                                      \n",
       "                                      \n",
       "                                      "
      ]
     },
     "metadata": {},
     "output_type": "display_data"
    },
    {
     "data": {
      "text/html": [
       "<style>\n",
       ".list-inline {list-style: none; margin:0; padding: 0}\n",
       ".list-inline>li {display: inline-block}\n",
       ".list-inline>li:not(:last-child)::after {content: \"\\00b7\"; padding: 0 .5ex}\n",
       "</style>\n",
       "<ol class=list-inline><li>8760</li><li>14</li></ol>\n"
      ],
      "text/latex": [
       "\\begin{enumerate*}\n",
       "\\item 8760\n",
       "\\item 14\n",
       "\\end{enumerate*}\n"
      ],
      "text/markdown": [
       "1. 8760\n",
       "2. 14\n",
       "\n",
       "\n"
      ],
      "text/plain": [
       "[1] 8760   14"
      ]
     },
     "metadata": {},
     "output_type": "display_data"
    }
   ],
   "source": [
    "library(tidyverse)\n",
    "bike_sharing_df <- read.csv(\"raw_seoul_bike_sharing.csv\")\n",
    "\n",
    "\n",
    "summary(bike_sharing_df)\n",
    "dim(bike_sharing_df)"
   ]
  },
  {
   "cell_type": "markdown",
   "id": "7c3daa9c",
   "metadata": {},
   "source": [
    "#### From the summary, we can observe that:\n",
    "\n",
    "Columns RENTED_BIKE_COUNT, TEMPERATURE, HUMIDITY, WIND_SPEED, VISIBILITY, DEW_POINT_TEMPERATURE, SOLAR_RADIATION, RAINFALL, SNOWFALL are numerical variables/columns and require normalization. Moreover, RENTED_BIKE_COUNT and TEMPERATURE have some missing values (NA's) that need to be handled properly.\n",
    "\n",
    "SEASONS, HOLIDAY, FUNCTIONING_DAY are categorical variables which need to be converted into indicator columns or dummy variables. Also, HOUR is read as a numerical variable but it is in fact a categorical variable with levels ranging from 0 to 23.\n",
    "\n",
    "Now that you have some basic ideas about how to process this bike-sharing demand dataset, let's start working on it!"
   ]
  },
  {
   "cell_type": "markdown",
   "id": "4e6e8e55",
   "metadata": {},
   "source": [
    "# TASK: Detect and handle missing values"
   ]
  },
  {
   "cell_type": "markdown",
   "id": "99789834",
   "metadata": {},
   "source": [
    "The RENTED_BIKE_COUNT column has about 295 missing values, and TEMPERATURE has about 11 missing values. Those missing values could be caused by not being recorded, or from malfunctioning bike-sharing systems or weather sensor networks. In any cases, the identified missing values have to be properly handled.\n",
    "\n",
    "Let's first handle missing values in RENTED_BIKE_COUNT column:\n",
    "\n",
    "Considering RENTED_BIKE_COUNT is the response variable/dependent variable, i.e., we want to predict the RENTED_BIKE_COUNT using other predictor/independent variables later, and we normally can not allow missing values for the response variable, so missing values for response variable must be either dropped or imputed properly.\n",
    "\n",
    "We can see that RENTED_BIKE_COUNT only has about 3% missing values (295 / 8760). As such, you can safely drop any rows whose RENTED_BIKE_COUNT has missing values.\n",
    "\n",
    "### Q3: Drop rows with missing values in the RENTED_BIKE_COUNT column"
   ]
  },
  {
   "cell_type": "code",
   "execution_count": 6,
   "id": "d1f99151",
   "metadata": {
    "vscode": {
     "languageId": "r"
    }
   },
   "outputs": [],
   "source": [
    "# Drop rows with `RENTED_BIKE_COUNT` column == NA\n",
    "bike_sharing_df <- bike_sharing_df %>%\n",
    "    filter(!is.na(RENTED_BIKE_COUNT))"
   ]
  },
  {
   "cell_type": "code",
   "execution_count": 7,
   "id": "7511a6d5",
   "metadata": {
    "vscode": {
     "languageId": "r"
    }
   },
   "outputs": [
    {
     "data": {
      "text/html": [
       "<style>\n",
       ".list-inline {list-style: none; margin:0; padding: 0}\n",
       ".list-inline>li {display: inline-block}\n",
       ".list-inline>li:not(:last-child)::after {content: \"\\00b7\"; padding: 0 .5ex}\n",
       "</style>\n",
       "<ol class=list-inline><li>8465</li><li>14</li></ol>\n"
      ],
      "text/latex": [
       "\\begin{enumerate*}\n",
       "\\item 8465\n",
       "\\item 14\n",
       "\\end{enumerate*}\n"
      ],
      "text/markdown": [
       "1. 8465\n",
       "2. 14\n",
       "\n",
       "\n"
      ],
      "text/plain": [
       "[1] 8465   14"
      ]
     },
     "metadata": {},
     "output_type": "display_data"
    }
   ],
   "source": [
    "# Print the dataset dimension again after those rows are dropped\n",
    "dim(bike_sharing_df)"
   ]
  },
  {
   "cell_type": "markdown",
   "id": "9c3d375a",
   "metadata": {},
   "source": [
    "Now that you have handled missing values in the RENTED_BIKE_COUNT variable, let's continue processing missing values for the TEMPERATURE column.\n",
    "\n",
    "Unlike the RENTED_BIKE_COUNT variable, TEMPERATURE is not a response variable. However, it is still an important predictor variable - as you could imagine, there may be a positve correlation between TEMPERATURE and RENTED_BIKE_COUNT. For example, in winter time with lower temperatures, people may not want to ride a bike, while in summer with nicer weather, they are more likely to rent a bike.\n",
    "\n",
    "How do we handle missing values for TEMPERATURE? We could simply remove the rows but it's better to impute them because TEMPERATURE should be relatively easy and reliable to estimate statistically.\n",
    "\n",
    "Let's first take a look at the missing values in the TEMPERATURE column."
   ]
  },
  {
   "cell_type": "code",
   "execution_count": 8,
   "id": "c0afa8d1",
   "metadata": {
    "vscode": {
     "languageId": "r"
    }
   },
   "outputs": [
    {
     "data": {
      "text/html": [
       "<table class=\"dataframe\">\n",
       "<caption>A data.frame: 11 × 14</caption>\n",
       "<thead>\n",
       "\t<tr><th scope=col>DATE</th><th scope=col>RENTED_BIKE_COUNT</th><th scope=col>HOUR</th><th scope=col>TEMPERATURE</th><th scope=col>HUMIDITY</th><th scope=col>WIND_SPEED</th><th scope=col>VISIBILITY</th><th scope=col>DEW_POINT_TEMPERATURE</th><th scope=col>SOLAR_RADIATION</th><th scope=col>RAINFALL</th><th scope=col>SNOWFALL</th><th scope=col>SEASONS</th><th scope=col>HOLIDAY</th><th scope=col>FUNCTIONING_DAY</th></tr>\n",
       "\t<tr><th scope=col>&lt;chr&gt;</th><th scope=col>&lt;int&gt;</th><th scope=col>&lt;int&gt;</th><th scope=col>&lt;dbl&gt;</th><th scope=col>&lt;int&gt;</th><th scope=col>&lt;dbl&gt;</th><th scope=col>&lt;int&gt;</th><th scope=col>&lt;dbl&gt;</th><th scope=col>&lt;dbl&gt;</th><th scope=col>&lt;dbl&gt;</th><th scope=col>&lt;dbl&gt;</th><th scope=col>&lt;chr&gt;</th><th scope=col>&lt;chr&gt;</th><th scope=col>&lt;chr&gt;</th></tr>\n",
       "</thead>\n",
       "<tbody>\n",
       "\t<tr><td>07/06/2018</td><td>3221</td><td>18</td><td>NA</td><td>57</td><td>2.7</td><td>1217</td><td>16.4</td><td>0.96</td><td>0.0</td><td>0</td><td>Summer</td><td>No Holiday</td><td>Yes</td></tr>\n",
       "\t<tr><td>12/06/2018</td><td>1246</td><td>14</td><td>NA</td><td>45</td><td>2.2</td><td>1961</td><td>12.7</td><td>1.39</td><td>0.0</td><td>0</td><td>Summer</td><td>No Holiday</td><td>Yes</td></tr>\n",
       "\t<tr><td>13/06/2018</td><td>2664</td><td>17</td><td>NA</td><td>57</td><td>3.3</td><td> 919</td><td>16.4</td><td>0.87</td><td>0.0</td><td>0</td><td>Summer</td><td>No Holiday</td><td>Yes</td></tr>\n",
       "\t<tr><td>17/06/2018</td><td>2330</td><td>17</td><td>NA</td><td>58</td><td>3.3</td><td> 865</td><td>16.7</td><td>0.66</td><td>0.0</td><td>0</td><td>Summer</td><td>No Holiday</td><td>Yes</td></tr>\n",
       "\t<tr><td>20/06/2018</td><td>2741</td><td>19</td><td>NA</td><td>61</td><td>2.7</td><td>1236</td><td>17.5</td><td>0.60</td><td>0.0</td><td>0</td><td>Summer</td><td>No Holiday</td><td>Yes</td></tr>\n",
       "\t<tr><td>30/06/2018</td><td>1144</td><td>13</td><td>NA</td><td>87</td><td>1.7</td><td> 390</td><td>23.2</td><td>0.71</td><td>3.5</td><td>0</td><td>Summer</td><td>No Holiday</td><td>Yes</td></tr>\n",
       "\t<tr><td>05/07/2018</td><td> 827</td><td>10</td><td>NA</td><td>75</td><td>1.1</td><td>1028</td><td>20.8</td><td>1.22</td><td>0.0</td><td>0</td><td>Summer</td><td>No Holiday</td><td>Yes</td></tr>\n",
       "\t<tr><td>11/07/2018</td><td> 634</td><td> 9</td><td>NA</td><td>96</td><td>0.6</td><td> 450</td><td>24.9</td><td>0.41</td><td>0.0</td><td>0</td><td>Summer</td><td>No Holiday</td><td>Yes</td></tr>\n",
       "\t<tr><td>12/07/2018</td><td> 593</td><td> 6</td><td>NA</td><td>93</td><td>1.1</td><td> 852</td><td>24.3</td><td>0.01</td><td>0.0</td><td>0</td><td>Summer</td><td>No Holiday</td><td>Yes</td></tr>\n",
       "\t<tr><td>21/07/2018</td><td> 347</td><td> 4</td><td>NA</td><td>77</td><td>1.2</td><td>1203</td><td>21.2</td><td>0.00</td><td>0.0</td><td>0</td><td>Summer</td><td>No Holiday</td><td>Yes</td></tr>\n",
       "\t<tr><td>21/08/2018</td><td>1277</td><td>23</td><td>NA</td><td>75</td><td>0.1</td><td>1892</td><td>20.8</td><td>0.00</td><td>0.0</td><td>0</td><td>Summer</td><td>No Holiday</td><td>Yes</td></tr>\n",
       "</tbody>\n",
       "</table>\n"
      ],
      "text/latex": [
       "A data.frame: 11 × 14\n",
       "\\begin{tabular}{llllllllllllll}\n",
       " DATE & RENTED\\_BIKE\\_COUNT & HOUR & TEMPERATURE & HUMIDITY & WIND\\_SPEED & VISIBILITY & DEW\\_POINT\\_TEMPERATURE & SOLAR\\_RADIATION & RAINFALL & SNOWFALL & SEASONS & HOLIDAY & FUNCTIONING\\_DAY\\\\\n",
       " <chr> & <int> & <int> & <dbl> & <int> & <dbl> & <int> & <dbl> & <dbl> & <dbl> & <dbl> & <chr> & <chr> & <chr>\\\\\n",
       "\\hline\n",
       "\t 07/06/2018 & 3221 & 18 & NA & 57 & 2.7 & 1217 & 16.4 & 0.96 & 0.0 & 0 & Summer & No Holiday & Yes\\\\\n",
       "\t 12/06/2018 & 1246 & 14 & NA & 45 & 2.2 & 1961 & 12.7 & 1.39 & 0.0 & 0 & Summer & No Holiday & Yes\\\\\n",
       "\t 13/06/2018 & 2664 & 17 & NA & 57 & 3.3 &  919 & 16.4 & 0.87 & 0.0 & 0 & Summer & No Holiday & Yes\\\\\n",
       "\t 17/06/2018 & 2330 & 17 & NA & 58 & 3.3 &  865 & 16.7 & 0.66 & 0.0 & 0 & Summer & No Holiday & Yes\\\\\n",
       "\t 20/06/2018 & 2741 & 19 & NA & 61 & 2.7 & 1236 & 17.5 & 0.60 & 0.0 & 0 & Summer & No Holiday & Yes\\\\\n",
       "\t 30/06/2018 & 1144 & 13 & NA & 87 & 1.7 &  390 & 23.2 & 0.71 & 3.5 & 0 & Summer & No Holiday & Yes\\\\\n",
       "\t 05/07/2018 &  827 & 10 & NA & 75 & 1.1 & 1028 & 20.8 & 1.22 & 0.0 & 0 & Summer & No Holiday & Yes\\\\\n",
       "\t 11/07/2018 &  634 &  9 & NA & 96 & 0.6 &  450 & 24.9 & 0.41 & 0.0 & 0 & Summer & No Holiday & Yes\\\\\n",
       "\t 12/07/2018 &  593 &  6 & NA & 93 & 1.1 &  852 & 24.3 & 0.01 & 0.0 & 0 & Summer & No Holiday & Yes\\\\\n",
       "\t 21/07/2018 &  347 &  4 & NA & 77 & 1.2 & 1203 & 21.2 & 0.00 & 0.0 & 0 & Summer & No Holiday & Yes\\\\\n",
       "\t 21/08/2018 & 1277 & 23 & NA & 75 & 0.1 & 1892 & 20.8 & 0.00 & 0.0 & 0 & Summer & No Holiday & Yes\\\\\n",
       "\\end{tabular}\n"
      ],
      "text/markdown": [
       "\n",
       "A data.frame: 11 × 14\n",
       "\n",
       "| DATE &lt;chr&gt; | RENTED_BIKE_COUNT &lt;int&gt; | HOUR &lt;int&gt; | TEMPERATURE &lt;dbl&gt; | HUMIDITY &lt;int&gt; | WIND_SPEED &lt;dbl&gt; | VISIBILITY &lt;int&gt; | DEW_POINT_TEMPERATURE &lt;dbl&gt; | SOLAR_RADIATION &lt;dbl&gt; | RAINFALL &lt;dbl&gt; | SNOWFALL &lt;dbl&gt; | SEASONS &lt;chr&gt; | HOLIDAY &lt;chr&gt; | FUNCTIONING_DAY &lt;chr&gt; |\n",
       "|---|---|---|---|---|---|---|---|---|---|---|---|---|---|\n",
       "| 07/06/2018 | 3221 | 18 | NA | 57 | 2.7 | 1217 | 16.4 | 0.96 | 0.0 | 0 | Summer | No Holiday | Yes |\n",
       "| 12/06/2018 | 1246 | 14 | NA | 45 | 2.2 | 1961 | 12.7 | 1.39 | 0.0 | 0 | Summer | No Holiday | Yes |\n",
       "| 13/06/2018 | 2664 | 17 | NA | 57 | 3.3 |  919 | 16.4 | 0.87 | 0.0 | 0 | Summer | No Holiday | Yes |\n",
       "| 17/06/2018 | 2330 | 17 | NA | 58 | 3.3 |  865 | 16.7 | 0.66 | 0.0 | 0 | Summer | No Holiday | Yes |\n",
       "| 20/06/2018 | 2741 | 19 | NA | 61 | 2.7 | 1236 | 17.5 | 0.60 | 0.0 | 0 | Summer | No Holiday | Yes |\n",
       "| 30/06/2018 | 1144 | 13 | NA | 87 | 1.7 |  390 | 23.2 | 0.71 | 3.5 | 0 | Summer | No Holiday | Yes |\n",
       "| 05/07/2018 |  827 | 10 | NA | 75 | 1.1 | 1028 | 20.8 | 1.22 | 0.0 | 0 | Summer | No Holiday | Yes |\n",
       "| 11/07/2018 |  634 |  9 | NA | 96 | 0.6 |  450 | 24.9 | 0.41 | 0.0 | 0 | Summer | No Holiday | Yes |\n",
       "| 12/07/2018 |  593 |  6 | NA | 93 | 1.1 |  852 | 24.3 | 0.01 | 0.0 | 0 | Summer | No Holiday | Yes |\n",
       "| 21/07/2018 |  347 |  4 | NA | 77 | 1.2 | 1203 | 21.2 | 0.00 | 0.0 | 0 | Summer | No Holiday | Yes |\n",
       "| 21/08/2018 | 1277 | 23 | NA | 75 | 0.1 | 1892 | 20.8 | 0.00 | 0.0 | 0 | Summer | No Holiday | Yes |\n",
       "\n"
      ],
      "text/plain": [
       "   DATE       RENTED_BIKE_COUNT HOUR TEMPERATURE HUMIDITY WIND_SPEED VISIBILITY\n",
       "1  07/06/2018 3221              18   NA          57       2.7        1217      \n",
       "2  12/06/2018 1246              14   NA          45       2.2        1961      \n",
       "3  13/06/2018 2664              17   NA          57       3.3         919      \n",
       "4  17/06/2018 2330              17   NA          58       3.3         865      \n",
       "5  20/06/2018 2741              19   NA          61       2.7        1236      \n",
       "6  30/06/2018 1144              13   NA          87       1.7         390      \n",
       "7  05/07/2018  827              10   NA          75       1.1        1028      \n",
       "8  11/07/2018  634               9   NA          96       0.6         450      \n",
       "9  12/07/2018  593               6   NA          93       1.1         852      \n",
       "10 21/07/2018  347               4   NA          77       1.2        1203      \n",
       "11 21/08/2018 1277              23   NA          75       0.1        1892      \n",
       "   DEW_POINT_TEMPERATURE SOLAR_RADIATION RAINFALL SNOWFALL SEASONS HOLIDAY   \n",
       "1  16.4                  0.96            0.0      0        Summer  No Holiday\n",
       "2  12.7                  1.39            0.0      0        Summer  No Holiday\n",
       "3  16.4                  0.87            0.0      0        Summer  No Holiday\n",
       "4  16.7                  0.66            0.0      0        Summer  No Holiday\n",
       "5  17.5                  0.60            0.0      0        Summer  No Holiday\n",
       "6  23.2                  0.71            3.5      0        Summer  No Holiday\n",
       "7  20.8                  1.22            0.0      0        Summer  No Holiday\n",
       "8  24.9                  0.41            0.0      0        Summer  No Holiday\n",
       "9  24.3                  0.01            0.0      0        Summer  No Holiday\n",
       "10 21.2                  0.00            0.0      0        Summer  No Holiday\n",
       "11 20.8                  0.00            0.0      0        Summer  No Holiday\n",
       "   FUNCTIONING_DAY\n",
       "1  Yes            \n",
       "2  Yes            \n",
       "3  Yes            \n",
       "4  Yes            \n",
       "5  Yes            \n",
       "6  Yes            \n",
       "7  Yes            \n",
       "8  Yes            \n",
       "9  Yes            \n",
       "10 Yes            \n",
       "11 Yes            "
      ]
     },
     "metadata": {},
     "output_type": "display_data"
    }
   ],
   "source": [
    "# code here\n",
    "missing_temp <- bike_sharing_df %>%\n",
    "    filter(is.na(TEMPERATURE))\n",
    "\n",
    "missing_temp"
   ]
  },
  {
   "cell_type": "markdown",
   "id": "0cc208c2",
   "metadata": {},
   "source": [
    "It seems that all of the missing values for TEMPERATURE are found in SEASONS == Summer, so it is reasonable to impute those missing values with the summer average temperature."
   ]
  },
  {
   "cell_type": "markdown",
   "id": "b4994ef4",
   "metadata": {},
   "source": [
    "### Q4-Impute missing values for the TEMPERATURE column using its mean value."
   ]
  },
  {
   "cell_type": "code",
   "execution_count": 9,
   "id": "50c0db98",
   "metadata": {
    "vscode": {
     "languageId": "r"
    }
   },
   "outputs": [
    {
     "data": {
      "text/html": [
       "26.5877105143377"
      ],
      "text/latex": [
       "26.5877105143377"
      ],
      "text/markdown": [
       "26.5877105143377"
      ],
      "text/plain": [
       "[1] 26.58771"
      ]
     },
     "metadata": {},
     "output_type": "display_data"
    }
   ],
   "source": [
    "# Calculate the summer average temperature\n",
    "summer_mean <- mean(dataset$TEMPERATURE[dataset$SEASONS == \"Summer\"], na.rm = TRUE)\n",
    "summer_mean"
   ]
  },
  {
   "cell_type": "code",
   "execution_count": 10,
   "id": "a5ad4b5d",
   "metadata": {
    "vscode": {
     "languageId": "r"
    }
   },
   "outputs": [],
   "source": [
    "# Impute missing values for TEMPERATURE column with summer average temperature\n",
    "bike_sharing_df <- bike_sharing_df %>%\n",
    "    mutate(TEMPERATURE=ifelse(is.na(TEMPERATURE) & SEASONS == 'Summer', summer_mean, TEMPERATURE))"
   ]
  },
  {
   "cell_type": "code",
   "execution_count": 11,
   "id": "af72a152",
   "metadata": {
    "vscode": {
     "languageId": "r"
    }
   },
   "outputs": [
    {
     "data": {
      "text/plain": [
       "     DATE           RENTED_BIKE_COUNT      HOUR        TEMPERATURE    \n",
       " Length:8465        Min.   :   2.0    Min.   : 0.00   Min.   :-17.80  \n",
       " Class :character   1st Qu.: 214.0    1st Qu.: 6.00   1st Qu.:  3.00  \n",
       " Mode  :character   Median : 542.0    Median :12.00   Median : 13.50  \n",
       "                    Mean   : 729.2    Mean   :11.51   Mean   : 12.77  \n",
       "                    3rd Qu.:1084.0    3rd Qu.:18.00   3rd Qu.: 22.70  \n",
       "                    Max.   :3556.0    Max.   :23.00   Max.   : 39.40  \n",
       "    HUMIDITY       WIND_SPEED      VISIBILITY   DEW_POINT_TEMPERATURE\n",
       " Min.   : 0.00   Min.   :0.000   Min.   :  27   Min.   :-30.600      \n",
       " 1st Qu.:42.00   1st Qu.:0.900   1st Qu.: 935   1st Qu.: -5.100      \n",
       " Median :57.00   Median :1.500   Median :1690   Median :  4.700      \n",
       " Mean   :58.15   Mean   :1.726   Mean   :1434   Mean   :  3.945      \n",
       " 3rd Qu.:74.00   3rd Qu.:2.300   3rd Qu.:2000   3rd Qu.: 15.200      \n",
       " Max.   :98.00   Max.   :7.400   Max.   :2000   Max.   : 27.200      \n",
       " SOLAR_RADIATION     RAINFALL          SNOWFALL         SEASONS         \n",
       " Min.   :0.0000   Min.   : 0.0000   Min.   :0.00000   Length:8465       \n",
       " 1st Qu.:0.0000   1st Qu.: 0.0000   1st Qu.:0.00000   Class :character  \n",
       " Median :0.0100   Median : 0.0000   Median :0.00000   Mode  :character  \n",
       " Mean   :0.5679   Mean   : 0.1491   Mean   :0.07769                     \n",
       " 3rd Qu.:0.9300   3rd Qu.: 0.0000   3rd Qu.:0.00000                     \n",
       " Max.   :3.5200   Max.   :35.0000   Max.   :8.80000                     \n",
       "   HOLIDAY          FUNCTIONING_DAY   \n",
       " Length:8465        Length:8465       \n",
       " Class :character   Class :character  \n",
       " Mode  :character   Mode  :character  \n",
       "                                      \n",
       "                                      \n",
       "                                      "
      ]
     },
     "metadata": {},
     "output_type": "display_data"
    }
   ],
   "source": [
    "# Print the summary of the dataset again to make sure no missing values in all columns\n",
    "summary(bike_sharing_df)"
   ]
  },
  {
   "cell_type": "code",
   "execution_count": 12,
   "id": "2e726bc1",
   "metadata": {
    "vscode": {
     "languageId": "r"
    }
   },
   "outputs": [],
   "source": [
    "# Save the dataset as `seoul_bike_sharing.csv`\n",
    "write.csv(bike_sharing_df, \"seoul_bike_sharing.csv\", row.names=FALSE)"
   ]
  },
  {
   "cell_type": "markdown",
   "id": "94ec8d3a",
   "metadata": {},
   "source": [
    "# TASK: Create indicator (dummy) variables for categorical variables¶"
   ]
  },
  {
   "cell_type": "markdown",
   "id": "087c3551",
   "metadata": {},
   "source": [
    "Regression models can not process categorical variables directly, thus we need to convert them into indicator variables.\n",
    "\n",
    "In the bike-sharing demand dataset, SEASONS, HOLIDAY, FUNCTIONING_DAY are categorical variables. Also, HOUR is read as a numerical variable but it is in fact a categorical variable with levels ranged from 0 to 23."
   ]
  },
  {
   "cell_type": "markdown",
   "id": "17e5f4a9",
   "metadata": {},
   "source": [
    "### Q5- Convert HOUR column from numeric into character first:"
   ]
  },
  {
   "cell_type": "code",
   "execution_count": 13,
   "id": "ed1ba978",
   "metadata": {
    "vscode": {
     "languageId": "r"
    }
   },
   "outputs": [],
   "source": [
    "# Using mutate() function to convert HOUR column into character type\n",
    "bike_sharing_df <- bike_sharing_df %>%\n",
    "    mutate(HOUR=as.character(HOUR))"
   ]
  },
  {
   "cell_type": "markdown",
   "id": "f810de22",
   "metadata": {},
   "source": [
    "`SEASONS`, `HOLIDAY`, `FUNCTIONING_DAY`,  `HOUR` are all character columns now and are ready to be converted into indicator variables.\n",
    "\n",
    "For example, `SEASONS` has four categorical values: `Spring`, `Summer`, `Autumn`, `Winter`. We thus need to create four indicator/dummy variables `Spring`, `Summer`, `Autumn`, and `Winter` which only have the value 0 or 1.\n",
    "\n",
    "So, given a data entry with the value `Spring` in the `SEASONS` column, the values for the four new columns `Spring`, `Summer`, `Autumn`, and `Winter` will be set to 1 for `Spring` and 0 for the others:\n",
    "\n",
    "|Spring|Summer|Autumn|Winter|\n",
    "|----- |------|------|------|\n",
    "|     1|     0|     0|     0| \n"
   ]
  },
  {
   "cell_type": "markdown",
   "id": "c24ae194",
   "metadata": {},
   "source": [
    "### Q6-Convert SEASONS, HOLIDAY and HOUR columns into indicator columns.\n",
    "\n",
    "Note that if FUNCTIONING_DAY only contains one categorical value after missing values removal, then you don't need to convert it to an indicator column."
   ]
  },
  {
   "cell_type": "code",
   "execution_count": 14,
   "id": "66105b86",
   "metadata": {
    "vscode": {
     "languageId": "r"
    }
   },
   "outputs": [],
   "source": [
    "# Convert SEASONS, HOLIDAY, FUNCTIONING_DAY, and HOUR columns into indicator columns.\n",
    "season_dummies <- model.matrix(~ SEASONS - 1, data = bike_sharing_df)\n",
    "holiday_dummies <- model.matrix(~ HOLIDAY -1, data = bike_sharing_df)\n",
    "hour_dummies <- model.matrix(~ HOUR -1, data = bike_sharing_df)\n",
    "bike_sharing_df <- cbind(bike_sharing_df, season_dummies)\n",
    "bike_sharing_df <- cbind(bike_sharing_df, holiday_dummies)\n",
    "bike_sharing_df <- cbind(bike_sharing_df, hour_dummies)\n",
    "bike_sharing_df <- subset(bike_sharing_df, select=-c(HOLIDAY,SEASONS,HOUR))"
   ]
  },
  {
   "cell_type": "code",
   "execution_count": 15,
   "id": "fbdb1a45",
   "metadata": {
    "vscode": {
     "languageId": "r"
    }
   },
   "outputs": [
    {
     "data": {
      "text/html": [
       "<table class=\"dataframe\">\n",
       "<caption>A data.frame: 6 × 41</caption>\n",
       "<thead>\n",
       "\t<tr><th></th><th scope=col>DATE</th><th scope=col>RENTED_BIKE_COUNT</th><th scope=col>TEMPERATURE</th><th scope=col>HUMIDITY</th><th scope=col>WIND_SPEED</th><th scope=col>VISIBILITY</th><th scope=col>DEW_POINT_TEMPERATURE</th><th scope=col>SOLAR_RADIATION</th><th scope=col>RAINFALL</th><th scope=col>SNOWFALL</th><th scope=col>⋯</th><th scope=col>HOUR21</th><th scope=col>HOUR22</th><th scope=col>HOUR23</th><th scope=col>HOUR3</th><th scope=col>HOUR4</th><th scope=col>HOUR5</th><th scope=col>HOUR6</th><th scope=col>HOUR7</th><th scope=col>HOUR8</th><th scope=col>HOUR9</th></tr>\n",
       "\t<tr><th></th><th scope=col>&lt;chr&gt;</th><th scope=col>&lt;int&gt;</th><th scope=col>&lt;dbl&gt;</th><th scope=col>&lt;int&gt;</th><th scope=col>&lt;dbl&gt;</th><th scope=col>&lt;int&gt;</th><th scope=col>&lt;dbl&gt;</th><th scope=col>&lt;dbl&gt;</th><th scope=col>&lt;dbl&gt;</th><th scope=col>&lt;dbl&gt;</th><th scope=col>⋯</th><th scope=col>&lt;dbl&gt;</th><th scope=col>&lt;dbl&gt;</th><th scope=col>&lt;dbl&gt;</th><th scope=col>&lt;dbl&gt;</th><th scope=col>&lt;dbl&gt;</th><th scope=col>&lt;dbl&gt;</th><th scope=col>&lt;dbl&gt;</th><th scope=col>&lt;dbl&gt;</th><th scope=col>&lt;dbl&gt;</th><th scope=col>&lt;dbl&gt;</th></tr>\n",
       "</thead>\n",
       "<tbody>\n",
       "\t<tr><th scope=row>1</th><td>01/12/2017</td><td>254</td><td>-5.2</td><td>37</td><td>2.2</td><td>2000</td><td>-17.6</td><td>0</td><td>0</td><td>0</td><td>⋯</td><td>0</td><td>0</td><td>0</td><td>0</td><td>0</td><td>0</td><td>0</td><td>0</td><td>0</td><td>0</td></tr>\n",
       "\t<tr><th scope=row>2</th><td>01/12/2017</td><td>204</td><td>-5.5</td><td>38</td><td>0.8</td><td>2000</td><td>-17.6</td><td>0</td><td>0</td><td>0</td><td>⋯</td><td>0</td><td>0</td><td>0</td><td>0</td><td>0</td><td>0</td><td>0</td><td>0</td><td>0</td><td>0</td></tr>\n",
       "\t<tr><th scope=row>3</th><td>01/12/2017</td><td>173</td><td>-6.0</td><td>39</td><td>1.0</td><td>2000</td><td>-17.7</td><td>0</td><td>0</td><td>0</td><td>⋯</td><td>0</td><td>0</td><td>0</td><td>0</td><td>0</td><td>0</td><td>0</td><td>0</td><td>0</td><td>0</td></tr>\n",
       "\t<tr><th scope=row>4</th><td>01/12/2017</td><td>107</td><td>-6.2</td><td>40</td><td>0.9</td><td>2000</td><td>-17.6</td><td>0</td><td>0</td><td>0</td><td>⋯</td><td>0</td><td>0</td><td>0</td><td>1</td><td>0</td><td>0</td><td>0</td><td>0</td><td>0</td><td>0</td></tr>\n",
       "\t<tr><th scope=row>5</th><td>01/12/2017</td><td> 78</td><td>-6.0</td><td>36</td><td>2.3</td><td>2000</td><td>-18.6</td><td>0</td><td>0</td><td>0</td><td>⋯</td><td>0</td><td>0</td><td>0</td><td>0</td><td>1</td><td>0</td><td>0</td><td>0</td><td>0</td><td>0</td></tr>\n",
       "\t<tr><th scope=row>6</th><td>01/12/2017</td><td>100</td><td>-6.4</td><td>37</td><td>1.5</td><td>2000</td><td>-18.7</td><td>0</td><td>0</td><td>0</td><td>⋯</td><td>0</td><td>0</td><td>0</td><td>0</td><td>0</td><td>1</td><td>0</td><td>0</td><td>0</td><td>0</td></tr>\n",
       "</tbody>\n",
       "</table>\n"
      ],
      "text/latex": [
       "A data.frame: 6 × 41\n",
       "\\begin{tabular}{r|lllllllllllllllllllll}\n",
       "  & DATE & RENTED\\_BIKE\\_COUNT & TEMPERATURE & HUMIDITY & WIND\\_SPEED & VISIBILITY & DEW\\_POINT\\_TEMPERATURE & SOLAR\\_RADIATION & RAINFALL & SNOWFALL & ⋯ & HOUR21 & HOUR22 & HOUR23 & HOUR3 & HOUR4 & HOUR5 & HOUR6 & HOUR7 & HOUR8 & HOUR9\\\\\n",
       "  & <chr> & <int> & <dbl> & <int> & <dbl> & <int> & <dbl> & <dbl> & <dbl> & <dbl> & ⋯ & <dbl> & <dbl> & <dbl> & <dbl> & <dbl> & <dbl> & <dbl> & <dbl> & <dbl> & <dbl>\\\\\n",
       "\\hline\n",
       "\t1 & 01/12/2017 & 254 & -5.2 & 37 & 2.2 & 2000 & -17.6 & 0 & 0 & 0 & ⋯ & 0 & 0 & 0 & 0 & 0 & 0 & 0 & 0 & 0 & 0\\\\\n",
       "\t2 & 01/12/2017 & 204 & -5.5 & 38 & 0.8 & 2000 & -17.6 & 0 & 0 & 0 & ⋯ & 0 & 0 & 0 & 0 & 0 & 0 & 0 & 0 & 0 & 0\\\\\n",
       "\t3 & 01/12/2017 & 173 & -6.0 & 39 & 1.0 & 2000 & -17.7 & 0 & 0 & 0 & ⋯ & 0 & 0 & 0 & 0 & 0 & 0 & 0 & 0 & 0 & 0\\\\\n",
       "\t4 & 01/12/2017 & 107 & -6.2 & 40 & 0.9 & 2000 & -17.6 & 0 & 0 & 0 & ⋯ & 0 & 0 & 0 & 1 & 0 & 0 & 0 & 0 & 0 & 0\\\\\n",
       "\t5 & 01/12/2017 &  78 & -6.0 & 36 & 2.3 & 2000 & -18.6 & 0 & 0 & 0 & ⋯ & 0 & 0 & 0 & 0 & 1 & 0 & 0 & 0 & 0 & 0\\\\\n",
       "\t6 & 01/12/2017 & 100 & -6.4 & 37 & 1.5 & 2000 & -18.7 & 0 & 0 & 0 & ⋯ & 0 & 0 & 0 & 0 & 0 & 1 & 0 & 0 & 0 & 0\\\\\n",
       "\\end{tabular}\n"
      ],
      "text/markdown": [
       "\n",
       "A data.frame: 6 × 41\n",
       "\n",
       "| <!--/--> | DATE &lt;chr&gt; | RENTED_BIKE_COUNT &lt;int&gt; | TEMPERATURE &lt;dbl&gt; | HUMIDITY &lt;int&gt; | WIND_SPEED &lt;dbl&gt; | VISIBILITY &lt;int&gt; | DEW_POINT_TEMPERATURE &lt;dbl&gt; | SOLAR_RADIATION &lt;dbl&gt; | RAINFALL &lt;dbl&gt; | SNOWFALL &lt;dbl&gt; | ⋯ ⋯ | HOUR21 &lt;dbl&gt; | HOUR22 &lt;dbl&gt; | HOUR23 &lt;dbl&gt; | HOUR3 &lt;dbl&gt; | HOUR4 &lt;dbl&gt; | HOUR5 &lt;dbl&gt; | HOUR6 &lt;dbl&gt; | HOUR7 &lt;dbl&gt; | HOUR8 &lt;dbl&gt; | HOUR9 &lt;dbl&gt; |\n",
       "|---|---|---|---|---|---|---|---|---|---|---|---|---|---|---|---|---|---|---|---|---|---|\n",
       "| 1 | 01/12/2017 | 254 | -5.2 | 37 | 2.2 | 2000 | -17.6 | 0 | 0 | 0 | ⋯ | 0 | 0 | 0 | 0 | 0 | 0 | 0 | 0 | 0 | 0 |\n",
       "| 2 | 01/12/2017 | 204 | -5.5 | 38 | 0.8 | 2000 | -17.6 | 0 | 0 | 0 | ⋯ | 0 | 0 | 0 | 0 | 0 | 0 | 0 | 0 | 0 | 0 |\n",
       "| 3 | 01/12/2017 | 173 | -6.0 | 39 | 1.0 | 2000 | -17.7 | 0 | 0 | 0 | ⋯ | 0 | 0 | 0 | 0 | 0 | 0 | 0 | 0 | 0 | 0 |\n",
       "| 4 | 01/12/2017 | 107 | -6.2 | 40 | 0.9 | 2000 | -17.6 | 0 | 0 | 0 | ⋯ | 0 | 0 | 0 | 1 | 0 | 0 | 0 | 0 | 0 | 0 |\n",
       "| 5 | 01/12/2017 |  78 | -6.0 | 36 | 2.3 | 2000 | -18.6 | 0 | 0 | 0 | ⋯ | 0 | 0 | 0 | 0 | 1 | 0 | 0 | 0 | 0 | 0 |\n",
       "| 6 | 01/12/2017 | 100 | -6.4 | 37 | 1.5 | 2000 | -18.7 | 0 | 0 | 0 | ⋯ | 0 | 0 | 0 | 0 | 0 | 1 | 0 | 0 | 0 | 0 |\n",
       "\n"
      ],
      "text/plain": [
       "  DATE       RENTED_BIKE_COUNT TEMPERATURE HUMIDITY WIND_SPEED VISIBILITY\n",
       "1 01/12/2017 254               -5.2        37       2.2        2000      \n",
       "2 01/12/2017 204               -5.5        38       0.8        2000      \n",
       "3 01/12/2017 173               -6.0        39       1.0        2000      \n",
       "4 01/12/2017 107               -6.2        40       0.9        2000      \n",
       "5 01/12/2017  78               -6.0        36       2.3        2000      \n",
       "6 01/12/2017 100               -6.4        37       1.5        2000      \n",
       "  DEW_POINT_TEMPERATURE SOLAR_RADIATION RAINFALL SNOWFALL ⋯ HOUR21 HOUR22\n",
       "1 -17.6                 0               0        0        ⋯ 0      0     \n",
       "2 -17.6                 0               0        0        ⋯ 0      0     \n",
       "3 -17.7                 0               0        0        ⋯ 0      0     \n",
       "4 -17.6                 0               0        0        ⋯ 0      0     \n",
       "5 -18.6                 0               0        0        ⋯ 0      0     \n",
       "6 -18.7                 0               0        0        ⋯ 0      0     \n",
       "  HOUR23 HOUR3 HOUR4 HOUR5 HOUR6 HOUR7 HOUR8 HOUR9\n",
       "1 0      0     0     0     0     0     0     0    \n",
       "2 0      0     0     0     0     0     0     0    \n",
       "3 0      0     0     0     0     0     0     0    \n",
       "4 0      1     0     0     0     0     0     0    \n",
       "5 0      0     1     0     0     0     0     0    \n",
       "6 0      0     0     1     0     0     0     0    "
      ]
     },
     "metadata": {},
     "output_type": "display_data"
    }
   ],
   "source": [
    "# Print the dataset summary again to make sure the indicator columns are created properly\n",
    "head(bike_sharing_df)"
   ]
  },
  {
   "cell_type": "code",
   "execution_count": 16,
   "id": "dee90cc7",
   "metadata": {
    "vscode": {
     "languageId": "r"
    }
   },
   "outputs": [],
   "source": [
    "# Save the dataset as `seoul_bike_sharing_converted.csv`\n",
    "write_csv(bike_sharing_df, \"seoul_bike_sharing_converted.csv\")"
   ]
  },
  {
   "cell_type": "markdown",
   "id": "0ae2e0c4",
   "metadata": {},
   "source": [
    "# TASK: Normalize data"
   ]
  },
  {
   "cell_type": "markdown",
   "id": "81f4c705",
   "metadata": {},
   "source": [
    "Columns RENTED_BIKE_COUNT, TEMPERATURE, HUMIDITY, WIND_SPEED, VISIBILITY, DEW_POINT_TEMPERATURE, SOLAR_RADIATION, RAINFALL, SNOWFALL are numerical variables/columns with different value units and range. Columns with large values may adversely influence (bias) the predictive models and degrade model accuracy. Thus, we need to perform normalization on these numeric columns to transfer them into a similar range.\n",
    "\n",
    "\n",
    "In this project, you are asked to use Min-max normalization: \n",
    "\n",
    "**Min-max** rescales each value in a column by first subtracting the minimum value of the column from each value, and then divides the result by the difference between the maximum and minimum values of the column. So the column gets re-scaled such that the minimum becomes 0 and the maximum becomes 1.\n",
    "\n",
    "$$x_{new} = \\frac{x_{old} - x_{min}}{x_{max} - x_{min}}$$\n",
    "\n"
   ]
  },
  {
   "cell_type": "markdown",
   "id": "a9de3c67",
   "metadata": {},
   "source": [
    "#### Q7: Apply min-max normalization on RENTED_BIKE_COUNT, TEMPERATURE, HUMIDITY, WIND_SPEED, VISIBILITY, DEW_POINT_TEMPERATURE, SOLAR_RADIATION, RAINFALL, SNOWFALL"
   ]
  },
  {
   "cell_type": "code",
   "execution_count": 17,
   "id": "71672048",
   "metadata": {
    "vscode": {
     "languageId": "r"
    }
   },
   "outputs": [],
   "source": [
    "# Use the `mutate()` function to apply min-max normalization on columns \n",
    "# `RENTED_BIKE_COUNT`, `TEMPERATURE`, `HUMIDITY`, `WIND_SPEED`, `VISIBILITY`, `DEW_POINT_TEMPERATURE`, `SOLAR_RADIATION`, `RAINFALL`, `SNOWFALL`\n",
    "dataframe <- read.csv(\"seoul_bike_sharing_converted.csv\")\n",
    "\n",
    "columns_to_normalize <- c(\"RENTED_BIKE_COUNT\", \"TEMPERATURE\", \"HUMIDITY\", \"WIND_SPEED\",\n",
    "                          \"VISIBILITY\", \"DEW_POINT_TEMPERATURE\", \"SOLAR_RADIATION\",\n",
    "                          \"RAINFALL\", \"SNOWFALL\")\n",
    "\n",
    "dataframe <- dataframe %>%\n",
    "  mutate(across(all_of(columns_to_normalize), scale))"
   ]
  },
  {
   "cell_type": "code",
   "execution_count": 18,
   "id": "6e79d66c",
   "metadata": {
    "vscode": {
     "languageId": "r"
    }
   },
   "outputs": [
    {
     "data": {
      "text/plain": [
       "     DATE           RENTED_BIKE_COUNT.V1    TEMPERATURE.V1   \n",
       " Length:8465        Min.   :-1.132024    Min.   :-2.5254284  \n",
       " Class :character   1st Qu.:-0.801987    1st Qu.:-0.8072419  \n",
       " Mode  :character   Median :-0.291362    Median : 0.0601119  \n",
       "                    Mean   : 0.000000    Mean   : 0.0000000  \n",
       "                    3rd Qu.: 0.552413    3rd Qu.: 0.8200790  \n",
       "                    Max.   : 4.400775    Max.   : 2.1995845  \n",
       "     HUMIDITY.V1         WIND_SPEED.V1       VISIBILITY.V1    \n",
       " Min.   :-2.8385478   Min.   :-1.668679   Min.   :-2.3099428  \n",
       " 1st Qu.:-0.7882510   1st Qu.:-0.798509   1st Qu.:-0.8190994  \n",
       " Median :-0.0560021   Median :-0.218396   Median : 0.4205336  \n",
       " Mean   : 0.0000000   Mean   : 0.000000   Mean   : 0.0000000  \n",
       " 3rd Qu.: 0.7738799   3rd Qu.: 0.555088   3rd Qu.: 0.9295220  \n",
       " Max.   : 1.9454781   Max.   : 5.486049   Max.   : 0.9295220  \n",
       " DEW_POINT_TEMPERATURE.V1 SOLAR_RADIATION.V1      RAINFALL.V1    \n",
       " Min.   :-2.6086661       Min.   :-0.654041   Min.   :-0.132487  \n",
       " 1st Qu.:-0.6830331       1st Qu.:-0.654041   1st Qu.:-0.132487  \n",
       " Median : 0.0570141       Median :-0.642523   Median :-0.132487  \n",
       " Mean   : 0.0000000       Mean   : 0.000000   Mean   : 0.000000  \n",
       " 3rd Qu.: 0.8499218       3rd Qu.: 0.417085   3rd Qu.:-0.132487  \n",
       " Max.   : 1.7561020       Max.   : 3.400114   Max.   :30.963698  \n",
       "     SNOWFALL.V1     FUNCTIONING_DAY    SEASONSAutumn    SEASONSSpring   \n",
       " Min.   :-0.174940   Length:8465        Min.   :0.0000   Min.   :0.0000  \n",
       " 1st Qu.:-0.174940   Class :character   1st Qu.:0.0000   1st Qu.:0.0000  \n",
       " Median :-0.174940   Mode  :character   Median :0.0000   Median :0.0000  \n",
       " Mean   : 0.000000                      Mean   :0.2288   Mean   :0.2552  \n",
       " 3rd Qu.:-0.174940                      3rd Qu.:0.0000   3rd Qu.:1.0000  \n",
       " Max.   :19.642056                      Max.   :1.0000   Max.   :1.0000  \n",
       " SEASONSSummer    SEASONSWinter    HOLIDAYHoliday   HOLIDAYNo.Holiday\n",
       " Min.   :0.0000   Min.   :0.0000   Min.   :0.0000   Min.   :0.0000   \n",
       " 1st Qu.:0.0000   1st Qu.:0.0000   1st Qu.:0.0000   1st Qu.:1.0000   \n",
       " Median :0.0000   Median :0.0000   Median :0.0000   Median :1.0000   \n",
       " Mean   :0.2608   Mean   :0.2552   Mean   :0.0482   Mean   :0.9518   \n",
       " 3rd Qu.:1.0000   3rd Qu.:1.0000   3rd Qu.:0.0000   3rd Qu.:1.0000   \n",
       " Max.   :1.0000   Max.   :1.0000   Max.   :1.0000   Max.   :1.0000   \n",
       "     HOUR0             HOUR1             HOUR10           HOUR11      \n",
       " Min.   :0.00000   Min.   :0.00000   Min.   :0.0000   Min.   :0.0000  \n",
       " 1st Qu.:0.00000   1st Qu.:0.00000   1st Qu.:0.0000   1st Qu.:0.0000  \n",
       " Median :0.00000   Median :0.00000   Median :0.0000   Median :0.0000  \n",
       " Mean   :0.04158   Mean   :0.04158   Mean   :0.0417   Mean   :0.0417  \n",
       " 3rd Qu.:0.00000   3rd Qu.:0.00000   3rd Qu.:0.0000   3rd Qu.:0.0000  \n",
       " Max.   :1.00000   Max.   :1.00000   Max.   :1.0000   Max.   :1.0000  \n",
       "     HOUR12           HOUR13           HOUR14           HOUR15      \n",
       " Min.   :0.0000   Min.   :0.0000   Min.   :0.0000   Min.   :0.0000  \n",
       " 1st Qu.:0.0000   1st Qu.:0.0000   1st Qu.:0.0000   1st Qu.:0.0000  \n",
       " Median :0.0000   Median :0.0000   Median :0.0000   Median :0.0000  \n",
       " Mean   :0.0417   Mean   :0.0417   Mean   :0.0417   Mean   :0.0417  \n",
       " 3rd Qu.:0.0000   3rd Qu.:0.0000   3rd Qu.:0.0000   3rd Qu.:0.0000  \n",
       " Max.   :1.0000   Max.   :1.0000   Max.   :1.0000   Max.   :1.0000  \n",
       "     HOUR16           HOUR17           HOUR18           HOUR19      \n",
       " Min.   :0.0000   Min.   :0.0000   Min.   :0.0000   Min.   :0.0000  \n",
       " 1st Qu.:0.0000   1st Qu.:0.0000   1st Qu.:0.0000   1st Qu.:0.0000  \n",
       " Median :0.0000   Median :0.0000   Median :0.0000   Median :0.0000  \n",
       " Mean   :0.0417   Mean   :0.0417   Mean   :0.0417   Mean   :0.0417  \n",
       " 3rd Qu.:0.0000   3rd Qu.:0.0000   3rd Qu.:0.0000   3rd Qu.:0.0000  \n",
       " Max.   :1.0000   Max.   :1.0000   Max.   :1.0000   Max.   :1.0000  \n",
       "     HOUR2             HOUR20           HOUR21           HOUR22      \n",
       " Min.   :0.00000   Min.   :0.0000   Min.   :0.0000   Min.   :0.0000  \n",
       " 1st Qu.:0.00000   1st Qu.:0.0000   1st Qu.:0.0000   1st Qu.:0.0000  \n",
       " Median :0.00000   Median :0.0000   Median :0.0000   Median :0.0000  \n",
       " Mean   :0.04158   Mean   :0.0417   Mean   :0.0417   Mean   :0.0417  \n",
       " 3rd Qu.:0.00000   3rd Qu.:0.0000   3rd Qu.:0.0000   3rd Qu.:0.0000  \n",
       " Max.   :1.00000   Max.   :1.0000   Max.   :1.0000   Max.   :1.0000  \n",
       "     HOUR23           HOUR3             HOUR4             HOUR5        \n",
       " Min.   :0.0000   Min.   :0.00000   Min.   :0.00000   Min.   :0.00000  \n",
       " 1st Qu.:0.0000   1st Qu.:0.00000   1st Qu.:0.00000   1st Qu.:0.00000  \n",
       " Median :0.0000   Median :0.00000   Median :0.00000   Median :0.00000  \n",
       " Mean   :0.0417   Mean   :0.04158   Mean   :0.04158   Mean   :0.04158  \n",
       " 3rd Qu.:0.0000   3rd Qu.:0.00000   3rd Qu.:0.00000   3rd Qu.:0.00000  \n",
       " Max.   :1.0000   Max.   :1.00000   Max.   :1.00000   Max.   :1.00000  \n",
       "     HOUR6             HOUR7            HOUR8            HOUR9       \n",
       " Min.   :0.00000   Min.   :0.0000   Min.   :0.0000   Min.   :0.0000  \n",
       " 1st Qu.:0.00000   1st Qu.:0.0000   1st Qu.:0.0000   1st Qu.:0.0000  \n",
       " Median :0.00000   Median :0.0000   Median :0.0000   Median :0.0000  \n",
       " Mean   :0.04158   Mean   :0.0417   Mean   :0.0417   Mean   :0.0417  \n",
       " 3rd Qu.:0.00000   3rd Qu.:0.0000   3rd Qu.:0.0000   3rd Qu.:0.0000  \n",
       " Max.   :1.00000   Max.   :1.0000   Max.   :1.0000   Max.   :1.0000  "
      ]
     },
     "metadata": {},
     "output_type": "display_data"
    }
   ],
   "source": [
    "# Print the summary of the dataset again to make sure the numeric columns range between 0 and 1\n",
    "summary(dataframe)"
   ]
  },
  {
   "cell_type": "code",
   "execution_count": 21,
   "id": "8ebd403d",
   "metadata": {
    "vscode": {
     "languageId": "r"
    }
   },
   "outputs": [],
   "source": [
    "# Save the dataset as `seoul_bike_sharing_converted_normalized.csv`\n",
    "write.csv(dataframe, \"seoul_bike_sharing_converted_normalized.csv\")"
   ]
  },
  {
   "cell_type": "markdown",
   "id": "dc721ad9",
   "metadata": {},
   "source": [
    "# Continue"
   ]
  },
  {
   "cell_type": "code",
   "execution_count": null,
   "id": "80a9be8e",
   "metadata": {
    "vscode": {
     "languageId": "r"
    }
   },
   "outputs": [],
   "source": []
  }
 ],
 "metadata": {
  "kernelspec": {
   "display_name": "R",
   "language": "R",
   "name": "ir"
  },
  "language_info": {
   "codemirror_mode": "r",
   "file_extension": ".r",
   "mimetype": "text/x-r-source",
   "name": "R",
   "pygments_lexer": "r",
   "version": "4.3.0"
  }
 },
 "nbformat": 4,
 "nbformat_minor": 5
}
